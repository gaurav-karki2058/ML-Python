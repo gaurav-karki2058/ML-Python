{
 "cells": [
  {
   "cell_type": "code",
   "execution_count": 1,
   "metadata": {},
   "outputs": [
    {
     "name": "stdout",
     "output_type": "stream",
     "text": [
      "Hello World!\n"
     ]
    }
   ],
   "source": [
    "print(\"Hello World!\")"
   ]
  },
  {
   "cell_type": "code",
   "execution_count": 2,
   "metadata": {},
   "outputs": [
    {
     "name": "stderr",
     "output_type": "stream",
     "text": [
      "/home/gk/anaconda3/lib/python3.8/site-packages/pandas/core/computation/expressions.py:20: UserWarning: Pandas requires version '2.7.3' or newer of 'numexpr' (version '2.7.1' currently installed).\n",
      "  from pandas.core.computation.check import NUMEXPR_INSTALLED\n"
     ]
    }
   ],
   "source": [
    "import numpy as np\n",
    "import matplotlib.pyplot as plt\n",
    "import pandas as pd\n",
    "import sklearn as sk\n",
    "import seaborn as sns\n",
    "%matplotlib inline"
   ]
  },
  {
   "cell_type": "code",
   "execution_count": 3,
   "metadata": {},
   "outputs": [],
   "source": [
    "from sklearn.model_selection import train_test_split\n",
    "from sklearn.linear_model import LinearRegression\n",
    "from sklearn.linear_model import LogisticRegression\n",
    "from sklearn.preprocessing import PolynomialFeatures\n",
    "from sklearn.model_selection import train_test_split,cross_val_score\n",
    "from sklearn.metrics import mean_squared_error\n",
    "from sklearn.preprocessing import StandardScaler"
   ]
  },
  {
   "cell_type": "markdown",
   "metadata": {},
   "source": [
    "# Basic linear regression using gradient descent\n",
    "\n",
    "Gradient descent has been used as the optimizing function and mean square error is used as cost function. The processes have been modularized for gradient calculation, cost calculation and computing newer weights and model training. Each step is divised into a function.\n"
   ]
  },
  {
   "cell_type": "code",
   "execution_count": 4,
   "metadata": {},
   "outputs": [],
   "source": [
    "def gradient_calc(W,X,b,Y):\n",
    "    w_gradient_sum=0\n",
    "    b_gradient_sum=0\n",
    "    for i in range(X.shape[0]):\n",
    "        w_gradient_sum+=((np.dot(W,X[i])+b)-Y[i])*X[i]\n",
    "        b_gradient_sum+=((np.dot(W,X[i])+b)-Y[i])\n",
    "    return w_gradient_sum/len(X),b_gradient_sum/len(X)"
   ]
  },
  {
   "cell_type": "code",
   "execution_count": 5,
   "metadata": {},
   "outputs": [],
   "source": [
    "def calculate_cost(W,X,b,Y):\n",
    "    cost=0\n",
    "\n",
    "    for i in range(X.shape[0]):\n",
    "        cost+=((np.dot(W,X[i])+b)-Y[i])**2\n",
    "    return cost/len(X)*2    "
   ]
  },
  {
   "cell_type": "code",
   "execution_count": 6,
   "metadata": {},
   "outputs": [],
   "source": [
    "def gradient_descent_calc(W,X,b,Y,alpha,error_margin,iterations):\n",
    "    \n",
    "    if len(W)==0:\n",
    "        weights = np.random.rand(X.shape[1])  # Initialize weights with the number of features\n",
    "    else:\n",
    "        weights = W\n",
    "\n",
    "    if len(b) ==0:  \n",
    "        biases = np.random.rand(1)[0]  \n",
    "    else:\n",
    "        biases = b\n",
    "    cost_history=[]\n",
    "    m,n=X.shape\n",
    "    iter_count=0\n",
    "    while iter_count!=iterations:\n",
    "        cost_value=calculate_cost(weights,X,biases,Y)\n",
    "        cost_history.append(cost_value)\n",
    "        if cost_value<=error_margin:\n",
    "            print(\"Error margin reached\")\n",
    "            break\n",
    "        new_w,new_b=gradient_calc(weights,X,biases,Y)\n",
    "        weights=weights - alpha * new_w\n",
    "        biases=biases - alpha * new_b\n",
    "        iter_count+=1\n",
    "    \n",
    "    \n",
    "    return weights,biases,cost_history\n",
    "\n",
    "    "
   ]
  },
  {
   "cell_type": "markdown",
   "metadata": {},
   "source": [
    "As the base steps of gradient descent are completed, testing the created set of functions is needed.\n",
    "\n",
    "\n",
    "Testing the model using various custom simple data points which are simple in pattern and can be easily inferred to check its accuracy."
   ]
  },
  {
   "cell_type": "code",
   "execution_count": 7,
   "metadata": {},
   "outputs": [
    {
     "name": "stdout",
     "output_type": "stream",
     "text": [
      "predicted x is 161.86627736756157 \n",
      "line eqn: [0.2581902]x+0.49740263911612026)\n",
      "final cost is 2.4573937748080956, predicted w :[0.2581902] and predicted b :0.49740263911612026\n"
     ]
    }
   ],
   "source": [
    "# X_train = np.array([[1], [2], [3], [4]])  # 4 training samples\n",
    "# Y_train = np.array([2, 3, 5, 7])\n",
    "\n",
    "# X_train = np.array([[1, 2],\n",
    "#                     [2, 3],\n",
    "#                     [3, 4],\n",
    "#                     [4, 5],\n",
    "#                     [5, 6]])\n",
    "\n",
    "# # Corresponding target values\n",
    "# Y_train = np.array([3, 5, 7, 9, 11])\n",
    "\n",
    "X_train = np.array([[1**2],  # 1, 1, 1\n",
    "                    [2**2],  # 4, 8, 16\n",
    "                    [3**2],  # 9, 27, 81\n",
    "                    [4**2],  # 16, 64, 256\n",
    "                    [5**2]]) # 25, 125, 625\n",
    "\n",
    "# Corresponding target values\n",
    "Y_train = np.array([2, 3, 4, 5, 6])  # You can set any desired pattern\n",
    "\n",
    "predicted_w,predicted_b,cost_history=gradient_descent_calc([],X_train,[],Y_train,0.00002,0.01,2000)\n",
    "predicted_x=np.dot(predicted_w,[25**2])+predicted_b\n",
    "print(f\"predicted x is {predicted_x} \")\n",
    "print(f\"line eqn: {predicted_w}x+{predicted_b})\")\n",
    "print(f\"final cost is {cost_history[-1]}, predicted w :{predicted_w} and predicted b :{predicted_b}\")\n",
    "# for i in cost_history:\n",
    "#     print(f\"{i}\\n\")"
   ]
  },
  {
   "cell_type": "markdown",
   "metadata": {},
   "source": [
    "# Logistic regression using gradient descent\n",
    "\n",
    "While most of the steps are mirrored with the above model created through linear regression regarding the optimizing algorithm and flow of steps in the model, there are certain crucial changes implemented. The sigmoid function is used to compress the results into values between 0 and 1 for probabilistic output and the logistic regression cost function formula differs to the usual mean square error formula used previously on linear regression.\n"
   ]
  },
  {
   "cell_type": "code",
   "execution_count": 8,
   "metadata": {},
   "outputs": [],
   "source": [
    "def sigmoid(f_x):\n",
    "    return 1/(1+np.exp(-(f_x)))"
   ]
  },
  {
   "cell_type": "code",
   "execution_count": 9,
   "metadata": {},
   "outputs": [],
   "source": [
    "def logistic_cf(W,X,y,b):\n",
    "    cost=0\n",
    "    m,n=X.shape\n",
    "    for i in range(m):\n",
    "        f_x=np.dot(W,X[i])+b\n",
    "        g_x=sigmoid(f_x)\n",
    "        cost+= y[i] * (np.log(g_x)) + (1-y[i]) * (np.log(1-(g_x)))\n",
    "    cost=(-1/m)*cost\n",
    "    return cost"
   ]
  },
  {
   "cell_type": "code",
   "execution_count": 10,
   "metadata": {},
   "outputs": [],
   "source": [
    "def logistic_gradient(W,X,y,b):\n",
    "    m=X.shape[0]\n",
    "    gradient_w=0\n",
    "    gradient_b=0\n",
    "    for i in range(m):\n",
    "        f_x=np.dot(W,X[i])+b\n",
    "        g_x=sigmoid(f_x)\n",
    "        gradient_w+=(g_x-y[i])*X[i]\n",
    "        gradient_b+=(g_x-y[i])\n",
    "    return (1/m)*gradient_w,(1/m)*gradient_b"
   ]
  },
  {
   "cell_type": "code",
   "execution_count": 11,
   "metadata": {},
   "outputs": [],
   "source": [
    "def logistic_gradient_descent(W,X,y,b,iterations,alpha,error_margin):\n",
    "    m,n=X.shape\n",
    "    \n",
    "    if len(W)==0:\n",
    "        W=np.random.rand(n)   \n",
    "    \n",
    "    if len(b)==0:\n",
    "        b=np.random.rand(1)[0]\n",
    "    cost_history=[]\n",
    "        \n",
    "    iter_count=0\n",
    "    while iter_count<iterations:\n",
    "        current_cost=logistic_cf(W,X,y,b)\n",
    "        cost_history.append(current_cost)\n",
    "        if current_cost>error_margin:\n",
    "            grad_w,grad_b=logistic_gradient(W,X,y,b)\n",
    "            W=W-alpha*grad_w\n",
    "            b=b-alpha*grad_b\n",
    "            iter_count+=1\n",
    "\n",
    "        else:\n",
    "            break\n",
    "    return W,b,cost_history        "
   ]
  },
  {
   "cell_type": "markdown",
   "metadata": {},
   "source": [
    "Similar types of different simple test cases are used"
   ]
  },
  {
   "cell_type": "code",
   "execution_count": 12,
   "metadata": {},
   "outputs": [],
   "source": [
    "#hours of study and hours of sleep, value of hours of study must be over 4 for passing \n",
    "# X = np.array([\n",
    "#     [2, 3],    # Sample 1: Will fail (0)\n",
    "#     [3, 4],    # Sample 2: Will fail (0) \n",
    "#     [4, 5],    # Sample 3: Will fail (0)\n",
    "#     [5, 3],    # Sample 4: Will pass (1)\n",
    "#     [6, 4],    # Sample 5: Will pass (1)\n",
    "#     [7, 5],    # Sample 6: Will pass (1)\n",
    "#     [3, 6],    # Sample 7: Will fail (0)\n",
    "#     [4, 7],    # Sample 8: Will pass (1)\n",
    "#     [5, 6],    # Sample 9: Will pass (1)\n",
    "#     [6, 3]     # Sample 10: Will pass (1)\n",
    "# ])\n",
    "\n",
    "# # Labels y\n",
    "# y = np.array([0, 0, 0, 1, 1, 1, 0, 1, 1, 1])\n",
    "\n",
    "#############################################################################################\n",
    "# X_below_boundary = np.column_stack((np.random.uniform(0, 4, 20), np.random.uniform(0, 20, 20)))\n",
    "# X_above_boundary = np.column_stack((np.random.uniform(4, 8, 20), np.random.uniform(0, 20, 20)))\n",
    "\n",
    "# # Combine data and labels\n",
    "# X = np.vstack((X_below_boundary, X_above_boundary))\n",
    "# y = np.array([0] * 20 + [1] * 20)\n",
    "\n",
    "# # Shuffle data to ensure it's not ordered\n",
    "# shuffled_indices = np.random.permutation(len(X))\n",
    "# X, y = X[shuffled_indices], y[shuffled_indices]\n",
    "#############################################################################################\n",
    "\n",
    "\n",
    "\n",
    "X = np.array([[2, 1], [3, 2], [4, 1], [5, 3], [6, 2], [7, 1], \n",
    "              [2, 4], [3, 5], [4, 4], [5, 6], [6, 5], [7, 4]])\n",
    "y = np.array([0, 0, 0, 0, 1, 1, 1, 1, 1, 1, 1, 1])\n",
    "\n",
    "# X = np.array([[0.5, 1.5], [1,1], [1.5, 0.5], [3, 0.5], [2, 2], [1, 2.5]])\n",
    "# y = np.array([0, 0, 0, 1, 1, 1]).reshape(-1,1) \n",
    "\n",
    "\n",
    "W,b,cost_history=logistic_gradient_descent([],X,y,[],6000,0.1,0.0001)\n",
    "# for i,j in enumerate(cost_history):\n",
    "#     print(f' Cost : {j} iteration {i+1}')"
   ]
  },
  {
   "cell_type": "code",
   "execution_count": 13,
   "metadata": {},
   "outputs": [
    {
     "name": "stdout",
     "output_type": "stream",
     "text": [
      "Passes Exam\n"
     ]
    }
   ],
   "source": [
    "test_value=np.array([2,5])\n",
    "inferred_x=np.dot(W,test_value)+b\n",
    "pred=sigmoid(inferred_x)\n",
    "# print(W,b)\n",
    "if pred>=0.5:\n",
    "    print(\"Passes Exam\")\n",
    "else:\n",
    "    print(\"Fails exam\")\n",
    "\n",
    "# Visualization of decision boundary when only two features are present \n",
    "decision_boundary= [(x_1,(- (b + W[0] * x_1) / W[1])) for x_1 in range(8) ]\n",
    "db_x=[i for i,j in decision_boundary]\n",
    "db_y=[j for i,j in decision_boundary]\n",
    "# print(decision_boundary)"
   ]
  },
  {
   "cell_type": "code",
   "execution_count": 14,
   "metadata": {},
   "outputs": [],
   "source": [
    "def pred_logistic_regression(calculated_w,calculated_b,X):\n",
    "    probability_value=sigmoid(pred_linear_regression(calculated_w,calculated_b,X))\n",
    "    return True if probability_value>0.5 else False"
   ]
  },
  {
   "cell_type": "code",
   "execution_count": 15,
   "metadata": {},
   "outputs": [],
   "source": [
    "def pred_linear_regression(calculated_w,calculated_b,X):\n",
    "    return np.dot(calculated_w,X)+calculated_b"
   ]
  },
  {
   "cell_type": "code",
   "execution_count": 16,
   "metadata": {},
   "outputs": [
    {
     "data": {
      "image/png": "[encoded data removed]",
      "text/plain": [
       "<Figure size 1080x504 with 1 Axes>"
      ]
     },
     "metadata": {
      "needs_background": "light"
     },
     "output_type": "display_data"
    }
   ],
   "source": [
    "plt.figure(figsize=(15,7)) # must be declared first\n",
    "plt.plot([i for i in range(len(cost_history))],cost_history,'go-',label='Iteration Instance')\n",
    "plt.title('Change in cost along iteration')\n",
    "plt.xlabel('Iterations')\n",
    "plt.ylabel('Cost')\n",
    "plt.legend(loc='best')\n",
    "plt.xlim(0, 6000) #value limits \n",
    "plt.ylim(0, 2) #value limits\n",
    "\n",
    "plt.show()"
   ]
  },
  {
   "cell_type": "code",
   "execution_count": 17,
   "metadata": {},
   "outputs": [
    {
     "data": {
      "text/plain": [
       "(0.0, 20.0)"
      ]
     },
     "execution_count": 17,
     "metadata": {},
     "output_type": "execute_result"
    },
    {
     "data": {
      "image/png": "[encoded data removed]",
      "text/plain": [
       "<Figure size 432x288 with 1 Axes>"
      ]
     },
     "metadata": {
      "needs_background": "light"
     },
     "output_type": "display_data"
    }
   ],
   "source": [
    "np\n",
    "plt.scatter(X[:, 0], X[:, 1], c=y, cmap='coolwarm', s=50)\n",
    "plt.plot(db_x,db_y)\n",
    "plt.xlim(0, 10) #value limits \n",
    "plt.ylim(0, 20) #value limits\n"
   ]
  },
  {
   "cell_type": "code",
   "execution_count": 18,
   "metadata": {},
   "outputs": [
    {
     "data": {
      "image/png": "[encoded data removed]",
      "text/plain": [
       "<Figure size 1800x480 with 2 Axes>"
      ]
     },
     "metadata": {
      "needs_background": "light"
     },
     "output_type": "display_data"
    }
   ],
   "source": [
    "fig, (ax1, ax2) = plt.subplots(1, 2, figsize=(15, 4), dpi=120)\n",
    "\n",
    "# Plot the cost history (iterations vs cost)\n",
    "ax1.plot([i for i in range(len(cost_history))], cost_history, 'go-', label='Iteration Instance')\n",
    "ax1.set_title('Cost History')\n",
    "ax1.set_xlabel('Iteration')\n",
    "ax1.set_ylabel('Cost')\n",
    "ax1.legend()\n",
    "\n",
    "# Scatter plot of data points and decision boundary\n",
    "ax2.scatter(X[:, 0], X[:, 1], c=y, cmap='coolwarm', s=50, label='Data Points')\n",
    "\n",
    "# Plot decision boundary\n",
    "db_x = np.array(db_x)  # X coordinates of the decision boundary\n",
    "db_y = np.array(db_y)  # Y coordinates of the decision boundary\n",
    "ax2.plot(db_x, db_y, 'k-', label='Decision Boundary')\n",
    "\n",
    "# Fill regions based on the decision boundary\n",
    "# Above the boundary -> Class 1 Region\n",
    "ax2.fill_between(db_x, db_y, y2=ax2.get_ylim()[1], color='red', alpha=0.2, label='Class 1 Region')\n",
    "#fill from y1 to y2\n",
    "# Below the boundary -> Class 2 Region\n",
    "ax2.fill_between(db_x, db_y,   color='blue', alpha=0.2, label='Class 2 Region')\n",
    "# Configure plot aesthetics\n",
    "ax2.set_title('Decision Boundary and Regions')\n",
    "ax2.set_xlabel('Feature 1')\n",
    "ax2.set_ylabel('Feature 2')\n",
    "# ax1.xlim(0,5000)\n",
    "# ax1.ylim(0,2)\n",
    "# ax1. \n",
    "# plt.tight_layout()\n",
    "plt.show()\n"
   ]
  },
  {
   "cell_type": "markdown",
   "metadata": {},
   "source": [
    "# Using Kaggle for datasets\n",
    "Dataset for applying data analysis are taken from kaggle via kagglehub\n"
   ]
  },
  {
   "cell_type": "code",
   "execution_count": 19,
   "metadata": {},
   "outputs": [],
   "source": [
    "import kagglehub\n",
    "import numpy as np\n",
    "import matplotlib.pyplot as plt\n",
    "import pandas as pd\n",
    "import sklearn as sk\n",
    "import seaborn as sns\n",
    "from sklearn.model_selection import train_test_split\n",
    "from sklearn.linear_model import LinearRegression\n",
    "from sklearn.linear_model import LogisticRegression\n",
    "from sklearn.preprocessing import PolynomialFeatures\n",
    "from sklearn.model_selection import train_test_split,cross_val_score\n",
    "from sklearn.metrics import mean_squared_error\n",
    "from sklearn.preprocessing import StandardScaler\n",
    "%matplotlib inline\n"
   ]
  },
  {
   "cell_type": "code",
   "execution_count": 20,
   "metadata": {},
   "outputs": [
    {
     "name": "stdout",
     "output_type": "stream",
     "text": [
      "Warning: Looks like you're using an outdated `kagglehub` version, please consider updating (latest version: 0.3.6)\n",
      "/home/gk/.cache/kagglehub/datasets/yasserh/titanic-dataset/versions/1\n"
     ]
    }
   ],
   "source": [
    "\n",
    "\n",
    "# getting titanic dataset\n",
    "path = kagglehub.dataset_download(\"yasserh/titanic-dataset\")\n",
    "print(path)\n"
   ]
  },
  {
   "cell_type": "code",
   "execution_count": 21,
   "metadata": {},
   "outputs": [
    {
     "data": {
      "text/html": [
       "<div>\n",
       "<style scoped>\n",
       "    .dataframe tbody tr th:only-of-type {\n",
       "        vertical-align: middle;\n",
       "    }\n",
       "\n",
       "    .dataframe tbody tr th {\n",
       "        vertical-align: top;\n",
       "    }\n",
       "\n",
       "    .dataframe thead th {\n",
       "        text-align: right;\n",
       "    }\n",
       "</style>\n",
       "<table border=\"1\" class=\"dataframe\">\n",
       "  <thead>\n",
       "    <tr style=\"text-align: right;\">\n",
       "      <th></th>\n",
       "      <th>Survived</th>\n",
       "      <th>Pclass</th>\n",
       "      <th>Name</th>\n",
       "      <th>Sex</th>\n",
       "      <th>Age</th>\n",
       "      <th>SibSp</th>\n",
       "      <th>Parch</th>\n",
       "      <th>Ticket</th>\n",
       "      <th>Fare</th>\n",
       "      <th>Cabin</th>\n",
       "      <th>Embarked</th>\n",
       "    </tr>\n",
       "    <tr>\n",
       "      <th>PassengerId</th>\n",
       "      <th></th>\n",
       "      <th></th>\n",
       "      <th></th>\n",
       "      <th></th>\n",
       "      <th></th>\n",
       "      <th></th>\n",
       "      <th></th>\n",
       "      <th></th>\n",
       "      <th></th>\n",
       "      <th></th>\n",
       "      <th></th>\n",
       "    </tr>\n",
       "  </thead>\n",
       "  <tbody>\n",
       "    <tr>\n",
       "      <th>1</th>\n",
       "      <td>0</td>\n",
       "      <td>3</td>\n",
       "      <td>Braund, Mr. Owen Harris</td>\n",
       "      <td>male</td>\n",
       "      <td>22.0</td>\n",
       "      <td>1</td>\n",
       "      <td>0</td>\n",
       "      <td>A/5 21171</td>\n",
       "      <td>7.2500</td>\n",
       "      <td>NaN</td>\n",
       "      <td>S</td>\n",
       "    </tr>\n",
       "    <tr>\n",
       "      <th>2</th>\n",
       "      <td>1</td>\n",
       "      <td>1</td>\n",
       "      <td>Cumings, Mrs. John Bradley (Florence Briggs Th...</td>\n",
       "      <td>female</td>\n",
       "      <td>38.0</td>\n",
       "      <td>1</td>\n",
       "      <td>0</td>\n",
       "      <td>PC 17599</td>\n",
       "      <td>71.2833</td>\n",
       "      <td>C85</td>\n",
       "      <td>C</td>\n",
       "    </tr>\n",
       "    <tr>\n",
       "      <th>3</th>\n",
       "      <td>1</td>\n",
       "      <td>3</td>\n",
       "      <td>Heikkinen, Miss. Laina</td>\n",
       "      <td>female</td>\n",
       "      <td>26.0</td>\n",
       "      <td>0</td>\n",
       "      <td>0</td>\n",
       "      <td>STON/O2. 3101282</td>\n",
       "      <td>7.9250</td>\n",
       "      <td>NaN</td>\n",
       "      <td>S</td>\n",
       "    </tr>\n",
       "    <tr>\n",
       "      <th>4</th>\n",
       "      <td>1</td>\n",
       "      <td>1</td>\n",
       "      <td>Futrelle, Mrs. Jacques Heath (Lily May Peel)</td>\n",
       "      <td>female</td>\n",
       "      <td>35.0</td>\n",
       "      <td>1</td>\n",
       "      <td>0</td>\n",
       "      <td>113803</td>\n",
       "      <td>53.1000</td>\n",
       "      <td>C123</td>\n",
       "      <td>S</td>\n",
       "    </tr>\n",
       "    <tr>\n",
       "      <th>5</th>\n",
       "      <td>0</td>\n",
       "      <td>3</td>\n",
       "      <td>Allen, Mr. William Henry</td>\n",
       "      <td>male</td>\n",
       "      <td>35.0</td>\n",
       "      <td>0</td>\n",
       "      <td>0</td>\n",
       "      <td>373450</td>\n",
       "      <td>8.0500</td>\n",
       "      <td>NaN</td>\n",
       "      <td>S</td>\n",
       "    </tr>\n",
       "    <tr>\n",
       "      <th>...</th>\n",
       "      <td>...</td>\n",
       "      <td>...</td>\n",
       "      <td>...</td>\n",
       "      <td>...</td>\n",
       "      <td>...</td>\n",
       "      <td>...</td>\n",
       "      <td>...</td>\n",
       "      <td>...</td>\n",
       "      <td>...</td>\n",
       "      <td>...</td>\n",
       "      <td>...</td>\n",
       "    </tr>\n",
       "    <tr>\n",
       "      <th>887</th>\n",
       "      <td>0</td>\n",
       "      <td>2</td>\n",
       "      <td>Montvila, Rev. Juozas</td>\n",
       "      <td>male</td>\n",
       "      <td>27.0</td>\n",
       "      <td>0</td>\n",
       "      <td>0</td>\n",
       "      <td>211536</td>\n",
       "      <td>13.0000</td>\n",
       "      <td>NaN</td>\n",
       "      <td>S</td>\n",
       "    </tr>\n",
       "    <tr>\n",
       "      <th>888</th>\n",
       "      <td>1</td>\n",
       "      <td>1</td>\n",
       "      <td>Graham, Miss. Margaret Edith</td>\n",
       "      <td>female</td>\n",
       "      <td>19.0</td>\n",
       "      <td>0</td>\n",
       "      <td>0</td>\n",
       "      <td>112053</td>\n",
       "      <td>30.0000</td>\n",
       "      <td>B42</td>\n",
       "      <td>S</td>\n",
       "    </tr>\n",
       "    <tr>\n",
       "      <th>889</th>\n",
       "      <td>0</td>\n",
       "      <td>3</td>\n",
       "      <td>Johnston, Miss. Catherine Helen \"Carrie\"</td>\n",
       "      <td>female</td>\n",
       "      <td>NaN</td>\n",
       "      <td>1</td>\n",
       "      <td>2</td>\n",
       "      <td>W./C. 6607</td>\n",
       "      <td>23.4500</td>\n",
       "      <td>NaN</td>\n",
       "      <td>S</td>\n",
       "    </tr>\n",
       "    <tr>\n",
       "      <th>890</th>\n",
       "      <td>1</td>\n",
       "      <td>1</td>\n",
       "      <td>Behr, Mr. Karl Howell</td>\n",
       "      <td>male</td>\n",
       "      <td>26.0</td>\n",
       "      <td>0</td>\n",
       "      <td>0</td>\n",
       "      <td>111369</td>\n",
       "      <td>30.0000</td>\n",
       "      <td>C148</td>\n",
       "      <td>C</td>\n",
       "    </tr>\n",
       "    <tr>\n",
       "      <th>891</th>\n",
       "      <td>0</td>\n",
       "      <td>3</td>\n",
       "      <td>Dooley, Mr. Patrick</td>\n",
       "      <td>male</td>\n",
       "      <td>32.0</td>\n",
       "      <td>0</td>\n",
       "      <td>0</td>\n",
       "      <td>370376</td>\n",
       "      <td>7.7500</td>\n",
       "      <td>NaN</td>\n",
       "      <td>Q</td>\n",
       "    </tr>\n",
       "  </tbody>\n",
       "</table>\n",
       "<p>891 rows × 11 columns</p>\n",
       "</div>"
      ],
      "text/plain": [
       "             Survived  Pclass  \\\n",
       "PassengerId                     \n",
       "1                   0       3   \n",
       "2                   1       1   \n",
       "3                   1       3   \n",
       "4                   1       1   \n",
       "5                   0       3   \n",
       "...               ...     ...   \n",
       "887                 0       2   \n",
       "888                 1       1   \n",
       "889                 0       3   \n",
       "890                 1       1   \n",
       "891                 0       3   \n",
       "\n",
       "                                                          Name     Sex   Age  \\\n",
       "PassengerId                                                                    \n",
       "1                                      Braund, Mr. Owen Harris    male  22.0   \n",
       "2            Cumings, Mrs. John Bradley (Florence Briggs Th...  female  38.0   \n",
       "3                                       Heikkinen, Miss. Laina  female  26.0   \n",
       "4                 Futrelle, Mrs. Jacques Heath (Lily May Peel)  female  35.0   \n",
       "5                                     Allen, Mr. William Henry    male  35.0   \n",
       "...                                                        ...     ...   ...   \n",
       "887                                      Montvila, Rev. Juozas    male  27.0   \n",
       "888                               Graham, Miss. Margaret Edith  female  19.0   \n",
       "889                   Johnston, Miss. Catherine Helen \"Carrie\"  female   NaN   \n",
       "890                                      Behr, Mr. Karl Howell    male  26.0   \n",
       "891                                        Dooley, Mr. Patrick    male  32.0   \n",
       "\n",
       "             SibSp  Parch            Ticket     Fare Cabin Embarked  \n",
       "PassengerId                                                          \n",
       "1                1      0         A/5 21171   7.2500   NaN        S  \n",
       "2                1      0          PC 17599  71.2833   C85        C  \n",
       "3                0      0  STON/O2. 3101282   7.9250   NaN        S  \n",
       "4                1      0            113803  53.1000  C123        S  \n",
       "5                0      0            373450   8.0500   NaN        S  \n",
       "...            ...    ...               ...      ...   ...      ...  \n",
       "887              0      0            211536  13.0000   NaN        S  \n",
       "888              0      0            112053  30.0000   B42        S  \n",
       "889              1      2        W./C. 6607  23.4500   NaN        S  \n",
       "890              0      0            111369  30.0000  C148        C  \n",
       "891              0      0            370376   7.7500   NaN        Q  \n",
       "\n",
       "[891 rows x 11 columns]"
      ]
     },
     "execution_count": 21,
     "metadata": {},
     "output_type": "execute_result"
    }
   ],
   "source": [
    "\n",
    "titanic_data=pd.read_csv(path+\"/Titanic-Dataset.csv\",index_col='PassengerId')\n",
    "titanic_data"
   ]
  },
  {
   "cell_type": "code",
   "execution_count": 23,
   "metadata": {},
   "outputs": [
    {
     "data": {
      "text/plain": [
       "Index(['Survived', 'Pclass', 'Name', 'Sex', 'Age', 'SibSp', 'Parch', 'Ticket',\n",
       "       'Fare', 'Cabin', 'Embarked'],\n",
       "      dtype='object')"
      ]
     },
     "execution_count": 23,
     "metadata": {},
     "output_type": "execute_result"
    }
   ],
   "source": [
    "titanic_data.columns"
   ]
  },
  {
   "cell_type": "code",
   "execution_count": 24,
   "metadata": {},
   "outputs": [
    {
     "name": "stdout",
     "output_type": "stream",
     "text": [
      "Survived      0\n",
      "Pclass        0\n",
      "Name          0\n",
      "Sex           0\n",
      "Age         177\n",
      "SibSp         0\n",
      "Parch         0\n",
      "Ticket        0\n",
      "Fare          0\n",
      "Cabin       687\n",
      "Embarked      2\n",
      "dtype: int64\n",
      "Dataset samples in total :  891\n",
      "Missing cabin data : 77.10437710437711 %\n"
     ]
    }
   ],
   "source": [
    "print(titanic_data.isnull().sum())\n",
    "dataset_sample_size=titanic_data.shape[0]\n",
    "print( \"Dataset samples in total : \", dataset_sample_size)\n",
    "print( \"Missing cabin data :\" , titanic_data['Cabin'].isnull().sum() *100/dataset_sample_size , \"%\")"
   ]
  },
  {
   "cell_type": "code",
   "execution_count": 25,
   "metadata": {},
   "outputs": [
    {
     "name": "stdout",
     "output_type": "stream",
     "text": [
      "             Survived  Pclass     Sex   Age  SibSp  Parch     Fare Embarked\n",
      "PassengerId                                                                \n",
      "1                   0       3    male  22.0      1      0   7.2500        S\n",
      "2                   1       1  female  38.0      1      0  71.2833        C\n",
      "3                   1       3  female  26.0      0      0   7.9250        S\n",
      "4                   1       1  female  35.0      1      0  53.1000        S\n",
      "5                   0       3    male  35.0      0      0   8.0500        S\n",
      "...               ...     ...     ...   ...    ...    ...      ...      ...\n",
      "887                 0       2    male  27.0      0      0  13.0000        S\n",
      "888                 1       1  female  19.0      0      0  30.0000        S\n",
      "889                 0       3  female   NaN      1      2  23.4500        S\n",
      "890                 1       1    male  26.0      0      0  30.0000        C\n",
      "891                 0       3    male  32.0      0      0   7.7500        Q\n",
      "\n",
      "[891 rows x 8 columns]\n",
      "['S' 'C' 'Q' nan]\n",
      "Survived      0\n",
      "Pclass        0\n",
      "Sex           0\n",
      "Age         177\n",
      "SibSp         0\n",
      "Parch         0\n",
      "Fare          0\n",
      "Embarked      2\n",
      "dtype: int64\n"
     ]
    }
   ],
   "source": [
    "titanic_data_processed=titanic_data.drop(['Cabin','Ticket','Name'],axis=1,inplace=False)\n",
    "print(titanic_data_processed)\n",
    "print(titanic_data_processed['Embarked'].unique())\n",
    "print(titanic_data_processed.isnull().sum())\n"
   ]
  },
  {
   "cell_type": "code",
   "execution_count": 26,
   "metadata": {},
   "outputs": [
    {
     "data": {
      "text/plain": [
       "Index(['Survived', 'Pclass', 'Sex', 'Age', 'SibSp', 'Parch', 'Fare',\n",
       "       'Embarked'],\n",
       "      dtype='object')"
      ]
     },
     "execution_count": 26,
     "metadata": {},
     "output_type": "execute_result"
    }
   ],
   "source": [
    "titanic_data_processed.columns"
   ]
  },
  {
   "cell_type": "code",
   "execution_count": 27,
   "metadata": {},
   "outputs": [
    {
     "name": "stdout",
     "output_type": "stream",
     "text": [
      "29.69911764705882\n",
      "28.0\n"
     ]
    }
   ],
   "source": [
    "print(titanic_data_processed['Age'].mean())\n",
    "print(titanic_data_processed['Age'].median())"
   ]
  },
  {
   "cell_type": "code",
   "execution_count": 28,
   "metadata": {},
   "outputs": [
    {
     "name": "stdout",
     "output_type": "stream",
     "text": [
      "Survived    0\n",
      "Pclass      0\n",
      "Sex         0\n",
      "Age         0\n",
      "SibSp       0\n",
      "Parch       0\n",
      "Fare        0\n",
      "Embarked    0\n",
      "dtype: int64\n"
     ]
    }
   ],
   "source": [
    "titanic_data_processed['Age'].fillna(titanic_data_processed['Age'].mean(),inplace=True)\n",
    "titanic_data_processed.dropna(how='any',inplace=True)\n",
    "print(titanic_data_processed.isnull().sum())\n"
   ]
  },
  {
   "cell_type": "code",
   "execution_count": 29,
   "metadata": {},
   "outputs": [
    {
     "data": {
      "text/plain": [
       "Index(['Survived', 'Pclass', 'Sex', 'Age', 'SibSp', 'Parch', 'Fare',\n",
       "       'Embarked'],\n",
       "      dtype='object')"
      ]
     },
     "execution_count": 29,
     "metadata": {},
     "output_type": "execute_result"
    }
   ],
   "source": [
    "titanic_data_processed.columns"
   ]
  },
  {
   "cell_type": "code",
   "execution_count": 30,
   "metadata": {},
   "outputs": [
    {
     "data": {
      "text/html": [
       "<div>\n",
       "<style scoped>\n",
       "    .dataframe tbody tr th:only-of-type {\n",
       "        vertical-align: middle;\n",
       "    }\n",
       "\n",
       "    .dataframe tbody tr th {\n",
       "        vertical-align: top;\n",
       "    }\n",
       "\n",
       "    .dataframe thead th {\n",
       "        text-align: right;\n",
       "    }\n",
       "</style>\n",
       "<table border=\"1\" class=\"dataframe\">\n",
       "  <thead>\n",
       "    <tr style=\"text-align: right;\">\n",
       "      <th></th>\n",
       "      <th>Survived</th>\n",
       "      <th>Pclass</th>\n",
       "      <th>Age</th>\n",
       "      <th>SibSp</th>\n",
       "      <th>Parch</th>\n",
       "      <th>Fare</th>\n",
       "      <th>Sex_female</th>\n",
       "      <th>Sex_male</th>\n",
       "      <th>Embarked_C</th>\n",
       "      <th>Embarked_Q</th>\n",
       "      <th>Embarked_S</th>\n",
       "    </tr>\n",
       "    <tr>\n",
       "      <th>PassengerId</th>\n",
       "      <th></th>\n",
       "      <th></th>\n",
       "      <th></th>\n",
       "      <th></th>\n",
       "      <th></th>\n",
       "      <th></th>\n",
       "      <th></th>\n",
       "      <th></th>\n",
       "      <th></th>\n",
       "      <th></th>\n",
       "      <th></th>\n",
       "    </tr>\n",
       "  </thead>\n",
       "  <tbody>\n",
       "    <tr>\n",
       "      <th>1</th>\n",
       "      <td>0</td>\n",
       "      <td>3</td>\n",
       "      <td>22.000000</td>\n",
       "      <td>1</td>\n",
       "      <td>0</td>\n",
       "      <td>7.2500</td>\n",
       "      <td>0</td>\n",
       "      <td>1</td>\n",
       "      <td>0</td>\n",
       "      <td>0</td>\n",
       "      <td>1</td>\n",
       "    </tr>\n",
       "    <tr>\n",
       "      <th>2</th>\n",
       "      <td>1</td>\n",
       "      <td>1</td>\n",
       "      <td>38.000000</td>\n",
       "      <td>1</td>\n",
       "      <td>0</td>\n",
       "      <td>71.2833</td>\n",
       "      <td>1</td>\n",
       "      <td>0</td>\n",
       "      <td>1</td>\n",
       "      <td>0</td>\n",
       "      <td>0</td>\n",
       "    </tr>\n",
       "    <tr>\n",
       "      <th>3</th>\n",
       "      <td>1</td>\n",
       "      <td>3</td>\n",
       "      <td>26.000000</td>\n",
       "      <td>0</td>\n",
       "      <td>0</td>\n",
       "      <td>7.9250</td>\n",
       "      <td>1</td>\n",
       "      <td>0</td>\n",
       "      <td>0</td>\n",
       "      <td>0</td>\n",
       "      <td>1</td>\n",
       "    </tr>\n",
       "    <tr>\n",
       "      <th>4</th>\n",
       "      <td>1</td>\n",
       "      <td>1</td>\n",
       "      <td>35.000000</td>\n",
       "      <td>1</td>\n",
       "      <td>0</td>\n",
       "      <td>53.1000</td>\n",
       "      <td>1</td>\n",
       "      <td>0</td>\n",
       "      <td>0</td>\n",
       "      <td>0</td>\n",
       "      <td>1</td>\n",
       "    </tr>\n",
       "    <tr>\n",
       "      <th>5</th>\n",
       "      <td>0</td>\n",
       "      <td>3</td>\n",
       "      <td>35.000000</td>\n",
       "      <td>0</td>\n",
       "      <td>0</td>\n",
       "      <td>8.0500</td>\n",
       "      <td>0</td>\n",
       "      <td>1</td>\n",
       "      <td>0</td>\n",
       "      <td>0</td>\n",
       "      <td>1</td>\n",
       "    </tr>\n",
       "    <tr>\n",
       "      <th>...</th>\n",
       "      <td>...</td>\n",
       "      <td>...</td>\n",
       "      <td>...</td>\n",
       "      <td>...</td>\n",
       "      <td>...</td>\n",
       "      <td>...</td>\n",
       "      <td>...</td>\n",
       "      <td>...</td>\n",
       "      <td>...</td>\n",
       "      <td>...</td>\n",
       "      <td>...</td>\n",
       "    </tr>\n",
       "    <tr>\n",
       "      <th>887</th>\n",
       "      <td>0</td>\n",
       "      <td>2</td>\n",
       "      <td>27.000000</td>\n",
       "      <td>0</td>\n",
       "      <td>0</td>\n",
       "      <td>13.0000</td>\n",
       "      <td>0</td>\n",
       "      <td>1</td>\n",
       "      <td>0</td>\n",
       "      <td>0</td>\n",
       "      <td>1</td>\n",
       "    </tr>\n",
       "    <tr>\n",
       "      <th>888</th>\n",
       "      <td>1</td>\n",
       "      <td>1</td>\n",
       "      <td>19.000000</td>\n",
       "      <td>0</td>\n",
       "      <td>0</td>\n",
       "      <td>30.0000</td>\n",
       "      <td>1</td>\n",
       "      <td>0</td>\n",
       "      <td>0</td>\n",
       "      <td>0</td>\n",
       "      <td>1</td>\n",
       "    </tr>\n",
       "    <tr>\n",
       "      <th>889</th>\n",
       "      <td>0</td>\n",
       "      <td>3</td>\n",
       "      <td>29.699118</td>\n",
       "      <td>1</td>\n",
       "      <td>2</td>\n",
       "      <td>23.4500</td>\n",
       "      <td>1</td>\n",
       "      <td>0</td>\n",
       "      <td>0</td>\n",
       "      <td>0</td>\n",
       "      <td>1</td>\n",
       "    </tr>\n",
       "    <tr>\n",
       "      <th>890</th>\n",
       "      <td>1</td>\n",
       "      <td>1</td>\n",
       "      <td>26.000000</td>\n",
       "      <td>0</td>\n",
       "      <td>0</td>\n",
       "      <td>30.0000</td>\n",
       "      <td>0</td>\n",
       "      <td>1</td>\n",
       "      <td>1</td>\n",
       "      <td>0</td>\n",
       "      <td>0</td>\n",
       "    </tr>\n",
       "    <tr>\n",
       "      <th>891</th>\n",
       "      <td>0</td>\n",
       "      <td>3</td>\n",
       "      <td>32.000000</td>\n",
       "      <td>0</td>\n",
       "      <td>0</td>\n",
       "      <td>7.7500</td>\n",
       "      <td>0</td>\n",
       "      <td>1</td>\n",
       "      <td>0</td>\n",
       "      <td>1</td>\n",
       "      <td>0</td>\n",
       "    </tr>\n",
       "  </tbody>\n",
       "</table>\n",
       "<p>889 rows × 11 columns</p>\n",
       "</div>"
      ],
      "text/plain": [
       "             Survived  Pclass        Age  SibSp  Parch     Fare  Sex_female  \\\n",
       "PassengerId                                                                   \n",
       "1                   0       3  22.000000      1      0   7.2500           0   \n",
       "2                   1       1  38.000000      1      0  71.2833           1   \n",
       "3                   1       3  26.000000      0      0   7.9250           1   \n",
       "4                   1       1  35.000000      1      0  53.1000           1   \n",
       "5                   0       3  35.000000      0      0   8.0500           0   \n",
       "...               ...     ...        ...    ...    ...      ...         ...   \n",
       "887                 0       2  27.000000      0      0  13.0000           0   \n",
       "888                 1       1  19.000000      0      0  30.0000           1   \n",
       "889                 0       3  29.699118      1      2  23.4500           1   \n",
       "890                 1       1  26.000000      0      0  30.0000           0   \n",
       "891                 0       3  32.000000      0      0   7.7500           0   \n",
       "\n",
       "             Sex_male  Embarked_C  Embarked_Q  Embarked_S  \n",
       "PassengerId                                                \n",
       "1                   1           0           0           1  \n",
       "2                   0           1           0           0  \n",
       "3                   0           0           0           1  \n",
       "4                   0           0           0           1  \n",
       "5                   1           0           0           1  \n",
       "...               ...         ...         ...         ...  \n",
       "887                 1           0           0           1  \n",
       "888                 0           0           0           1  \n",
       "889                 0           0           0           1  \n",
       "890                 1           1           0           0  \n",
       "891                 1           0           1           0  \n",
       "\n",
       "[889 rows x 11 columns]"
      ]
     },
     "execution_count": 30,
     "metadata": {},
     "output_type": "execute_result"
    }
   ],
   "source": [
    "titanic_data_processed=pd.get_dummies(data=titanic_data_processed,columns=['Sex','Embarked'],dtype=int)\n",
    "titanic_data_processed"
   ]
  },
  {
   "cell_type": "code",
   "execution_count": 31,
   "metadata": {},
   "outputs": [],
   "source": [
    "# df= pd.DataFrame(np.array([[1, 2, 'A'], [2, 2, 'B'], [3, 3, 'C'], [4, 4, 'A']]), columns=['A', 'B', 'C'])\n"
   ]
  },
  {
   "cell_type": "code",
   "execution_count": 32,
   "metadata": {},
   "outputs": [
    {
     "data": {
      "image/png": "[encoded data removed]",
      "text/plain": [
       "<Figure size 432x288 with 2 Axes>"
      ]
     },
     "metadata": {
      "needs_background": "light"
     },
     "output_type": "display_data"
    }
   ],
   "source": [
    "#1 Expoloring relationship between pairs using heatmap\n",
    "correlation_matrix=titanic_data_processed.corr()\n",
    "sns.heatmap(correlation_matrix, cmap='YlGnBu', annot=True, fmt='.2f', linewidths=0.5)\n",
    "plt.show()"
   ]
  },
  {
   "cell_type": "code",
   "execution_count": 33,
   "metadata": {},
   "outputs": [],
   "source": [
    "# #2 exploring pair realtionships using pairplot\n",
    "# sns.pairplot(titanic_data_processed)\n",
    "# plt.show()"
   ]
  },
  {
   "cell_type": "code",
   "execution_count": 34,
   "metadata": {},
   "outputs": [],
   "source": [
    "\n",
    "# predicted_w,predicted_b,cost_history=gradient_descent_calc([],X_train,[],Y_train,alpha=0.2,error_margin=0.01,iterations=1000)\n",
    "# plt.plot([i for i in range(len(cost_history))],cost_history,'b')\n",
    "# plt.show()"
   ]
  },
  {
   "cell_type": "code",
   "execution_count": 35,
   "metadata": {},
   "outputs": [],
   "source": [
    "# plt.figure(figsize=(10,6))\n",
    "# sns.boxplot(x='Gender', y='Spending Score (1-100)', data=sales_data)\n",
    "# plt.show()"
   ]
  },
  {
   "cell_type": "code",
   "execution_count": 36,
   "metadata": {},
   "outputs": [],
   "source": [
    "# plt.figure(figsize=(10,6))\n",
    "# sns.barplot(x='Profession', y='Spending Score (1-100)', data=sales_data)\n",
    "# plt.show()"
   ]
  },
  {
   "cell_type": "code",
   "execution_count": 37,
   "metadata": {},
   "outputs": [],
   "source": [
    "#One hot encoded gender data usuing pd.get_dummies()\n",
    "# pd.get_dummies?\n",
    "# new_sales=sales_data\n",
    "# # new_sales_encoded = pd.get_dummies(data=new_sales, columns=['Gender'], prefix=['Male', 'Female'])\n",
    "# new_sales_encoded = pd.get_dummies(data=new_sales, columns=['Gender'],prefix='Gender')\n",
    "# new_sales_encoded"
   ]
  },
  {
   "cell_type": "code",
   "execution_count": 38,
   "metadata": {},
   "outputs": [],
   "source": [
    "# # One hot encoded gender data manually\n",
    "# new_sales=sales_data.copy()\n",
    "# new_sales['male']=np.where(new_sales['Gender']=='Male',1,0)\n",
    "# new_sales['female']=np.where(new_sales['Gender']=='Female',1,0)\n",
    "# new_sales=new_sales.drop('Gender',axis=1)\n",
    "# numeric_sales_data=new_sales.drop('Profession',axis=1)\n",
    "# numeric_sales_data\n"
   ]
  },
  {
   "cell_type": "code",
   "execution_count": 39,
   "metadata": {},
   "outputs": [],
   "source": [
    "# configured_sales_data=numeric_sales_data[numeric_sales_data.columns[numeric_sales_data.columns != 'Spending Score (1-100)']]\n",
    "\n",
    "# spending_score=sales_data[['Spending Score (1-100)']]\n",
    "\n",
    "\n",
    "# #standardized values for training\n",
    "# selected_sales=configured_sales_data.copy()\n",
    "# X_mean=(selected_sales.mean())\n",
    "# X_std=selected_sales.std()\n",
    "# X_standardized=(selected_sales-X_mean)/X_std\n",
    "\n",
    "# #transforming into numpy\n",
    "# X=X_standardized.to_numpy()\n",
    "# y=spending_score.to_numpy()\n",
    "# y=y.reshape(-1)\n",
    "\n",
    "\n"
   ]
  },
  {
   "cell_type": "code",
   "execution_count": 40,
   "metadata": {},
   "outputs": [],
   "source": [
    "# w,b,cost_history=gradient_descent_calc(X=X_train,Y=Y_train,alpha=0.1,error_margin=0.5,iterations=1000,W=[],b=[])\n",
    "# cost_history"
   ]
  },
  {
   "cell_type": "code",
   "execution_count": null,
   "metadata": {},
   "outputs": [],
   "source": []
  },
  {
   "cell_type": "code",
   "execution_count": null,
   "metadata": {},
   "outputs": [],
   "source": []
  },
  {
   "cell_type": "code",
   "execution_count": 41,
   "metadata": {},
   "outputs": [],
   "source": [
    "\n",
    "def train_linear_regression_sk(X,y,degree):\n",
    "    cv_train_test=[]\n",
    "    X_train,X_test,y_train,y_test=train_test_split(X,y,test_size=0.2,random_state=42)\n",
    "    for degree in range(1,degree+1):\n",
    "\n",
    "\n",
    "        poly=PolynomialFeatures(degree)\n",
    "        X_poly_train=poly.fit_transform(X_train)\n",
    "        X_poly_test=poly.fit_transform(X_test)\n",
    "        model=LinearRegression()\n",
    "\n",
    "        cv_scores = cross_val_score(model, X_poly_train, y_train, cv=5, scoring='neg_mean_squared_error')\n",
    "        avg_cv_score = -np.mean(cv_scores)  \n",
    "\n",
    "        model.fit(X_poly_train,y_train)\n",
    "\n",
    "        y_predict=model.predict(X_poly_test)\n",
    "        test_mse=mean_squared_error(y_test,y_predict)\n",
    "        cv_train_test.append((avg_cv_score,test_mse))\n",
    "\n",
    "\n",
    "        print(f\"Degree: {degree}\")\n",
    "        print(f\"  Cross-Validation MSE: {avg_cv_score:.2f}\")\n",
    "        print(f\"  Test MSE: {test_mse:.2f}\")\n",
    "    return cv_train_test,model"
   ]
  },
  {
   "cell_type": "code",
   "execution_count": 42,
   "metadata": {},
   "outputs": [],
   "source": [
    "def plot_cv(cv_train_test, degree):\n",
    "    plt.plot([i + 1 for i in range(degree)], [cv_train for (cv_train, cv_test) in cv_train_test])\n",
    "    plt.plot([i + 1 for i in range(degree)], [cv_test for (cv_train, cv_test) in cv_train_test])\n",
    "    plt.xlabel('Polynomial Degree')\n",
    "    plt.ylabel('Mean Squared Error')\n",
    "    plt.legend(['CV MSE', 'Test MSE'])\n",
    "    plt.show()\n"
   ]
  },
  {
   "cell_type": "code",
   "execution_count": 43,
   "metadata": {},
   "outputs": [],
   "source": [
    "def train_test_split_sk(X,y,size=0.2,random_state=42):\n",
    "    X_train,X_test,y_train,y_test=train_test_split(X,y,test_size=0.2,random_state=42)\n",
    "    return X_train,X_test,y_train,y_test\n",
    "\n"
   ]
  },
  {
   "cell_type": "code",
   "execution_count": 44,
   "metadata": {},
   "outputs": [],
   "source": [
    "def train_logistic_regression_sk(X_train,X_test,y_train,y_test,degree):\n",
    "    \n",
    "    poly=PolynomialFeatures(degree)\n",
    "    X_poly_train=poly.fit_transform(X_train)\n",
    "    X_poly_test=poly.fit_transform(X_test)\n",
    "    model = LogisticRegression(solver='liblinear', max_iter=100,C=10)\n",
    "\n",
    "    \n",
    "    cv_train_test=[]\n",
    "    \n",
    "    cv_scores = cross_val_score(model, X_poly_train, y_train, cv=5, scoring='neg_mean_squared_error')\n",
    "    avg_cv_score = -np.mean(cv_scores)  \n",
    "\n",
    "    model.fit(X_poly_train,y_train)\n",
    "    print(\"Logistic Regression Model Trained\")\n",
    "        \n",
    "    return model,avg_cv_score,X_poly_test"
   ]
  },
  {
   "cell_type": "code",
   "execution_count": 45,
   "metadata": {},
   "outputs": [],
   "source": [
    "def test_logistic_regression_sk(model,X_poly_test,y_test):\n",
    "    \n",
    "    y_predict=model.predict(X_poly_test)\n",
    "    test_mse=mean_squared_error(y_test,y_predict)\n",
    "    \n",
    "  \n",
    "    return test_mse"
   ]
  },
  {
   "cell_type": "code",
   "execution_count": 46,
   "metadata": {},
   "outputs": [],
   "source": [
    "\n",
    "X_titanic=titanic_data_processed.drop('Survived',axis=1).to_numpy()\n",
    "Y_titanic=titanic_data_processed['Survived'].to_numpy()\n",
    "\n",
    "scaler = StandardScaler()\n",
    "X_titanic_scaled = scaler.fit_transform(X_titanic)"
   ]
  },
  {
   "cell_type": "code",
   "execution_count": 47,
   "metadata": {},
   "outputs": [
    {
     "name": "stderr",
     "output_type": "stream",
     "text": [
      "/home/gk/anaconda3/lib/python3.8/site-packages/sklearn/svm/_base.py:1250: ConvergenceWarning: Liblinear failed to converge, increase the number of iterations.\n",
      "  warnings.warn(\n",
      "/home/gk/anaconda3/lib/python3.8/site-packages/sklearn/svm/_base.py:1250: ConvergenceWarning: Liblinear failed to converge, increase the number of iterations.\n",
      "  warnings.warn(\n",
      "/home/gk/anaconda3/lib/python3.8/site-packages/sklearn/svm/_base.py:1250: ConvergenceWarning: Liblinear failed to converge, increase the number of iterations.\n",
      "  warnings.warn(\n",
      "/home/gk/anaconda3/lib/python3.8/site-packages/sklearn/svm/_base.py:1250: ConvergenceWarning: Liblinear failed to converge, increase the number of iterations.\n",
      "  warnings.warn(\n",
      "/home/gk/anaconda3/lib/python3.8/site-packages/sklearn/svm/_base.py:1250: ConvergenceWarning: Liblinear failed to converge, increase the number of iterations.\n",
      "  warnings.warn(\n",
      "/home/gk/anaconda3/lib/python3.8/site-packages/sklearn/svm/_base.py:1250: ConvergenceWarning: Liblinear failed to converge, increase the number of iterations.\n",
      "  warnings.warn(\n"
     ]
    },
    {
     "name": "stdout",
     "output_type": "stream",
     "text": [
      "Logistic Regression Model Trained\n"
     ]
    },
    {
     "name": "stderr",
     "output_type": "stream",
     "text": [
      "/home/gk/anaconda3/lib/python3.8/site-packages/sklearn/svm/_base.py:1250: ConvergenceWarning: Liblinear failed to converge, increase the number of iterations.\n",
      "  warnings.warn(\n",
      "/home/gk/anaconda3/lib/python3.8/site-packages/sklearn/svm/_base.py:1250: ConvergenceWarning: Liblinear failed to converge, increase the number of iterations.\n",
      "  warnings.warn(\n",
      "/home/gk/anaconda3/lib/python3.8/site-packages/sklearn/svm/_base.py:1250: ConvergenceWarning: Liblinear failed to converge, increase the number of iterations.\n",
      "  warnings.warn(\n",
      "/home/gk/anaconda3/lib/python3.8/site-packages/sklearn/svm/_base.py:1250: ConvergenceWarning: Liblinear failed to converge, increase the number of iterations.\n",
      "  warnings.warn(\n",
      "/home/gk/anaconda3/lib/python3.8/site-packages/sklearn/svm/_base.py:1250: ConvergenceWarning: Liblinear failed to converge, increase the number of iterations.\n",
      "  warnings.warn(\n"
     ]
    },
    {
     "ename": "KeyboardInterrupt",
     "evalue": "",
     "output_type": "error",
     "traceback": [
      "\u001b[0;31m---------------------------------------------------------------------------\u001b[0m",
      "\u001b[0;31mKeyboardInterrupt\u001b[0m                         Traceback (most recent call last)",
      "\u001b[0;32m<ipython-input-47-77cf3d5f9896>\u001b[0m in \u001b[0;36m<module>\u001b[0;34m\u001b[0m\n\u001b[1;32m      4\u001b[0m \u001b[0mcv_scores\u001b[0m\u001b[0;34m=\u001b[0m\u001b[0;34m[\u001b[0m\u001b[0;34m]\u001b[0m\u001b[0;34m\u001b[0m\u001b[0;34m\u001b[0m\u001b[0m\n\u001b[1;32m      5\u001b[0m \u001b[0;32mfor\u001b[0m \u001b[0mi\u001b[0m \u001b[0;32min\u001b[0m \u001b[0mrange\u001b[0m\u001b[0;34m(\u001b[0m\u001b[0;36m1\u001b[0m\u001b[0;34m,\u001b[0m\u001b[0mdegree\u001b[0m\u001b[0;34m+\u001b[0m\u001b[0;36m1\u001b[0m\u001b[0;34m)\u001b[0m\u001b[0;34m:\u001b[0m\u001b[0;34m\u001b[0m\u001b[0;34m\u001b[0m\u001b[0m\n\u001b[0;32m----> 6\u001b[0;31m     \u001b[0mtrained_model\u001b[0m\u001b[0;34m,\u001b[0m\u001b[0mcv_score\u001b[0m\u001b[0;34m,\u001b[0m\u001b[0mX_poly_test\u001b[0m\u001b[0;34m=\u001b[0m\u001b[0mtrain_logistic_regression_sk\u001b[0m\u001b[0;34m(\u001b[0m\u001b[0mtitanicX_train\u001b[0m\u001b[0;34m,\u001b[0m\u001b[0mtitanicX_test\u001b[0m\u001b[0;34m,\u001b[0m\u001b[0mtitanicY_train\u001b[0m\u001b[0;34m,\u001b[0m\u001b[0mtitanicY_test\u001b[0m\u001b[0;34m,\u001b[0m\u001b[0mdegree\u001b[0m\u001b[0;34m)\u001b[0m\u001b[0;34m\u001b[0m\u001b[0;34m\u001b[0m\u001b[0m\n\u001b[0m\u001b[1;32m      7\u001b[0m     \u001b[0mtest_mse_value\u001b[0m\u001b[0;34m=\u001b[0m\u001b[0mtest_logistic_regression_sk\u001b[0m\u001b[0;34m(\u001b[0m\u001b[0mtrained_model\u001b[0m\u001b[0;34m,\u001b[0m\u001b[0mX_poly_test\u001b[0m\u001b[0;34m,\u001b[0m\u001b[0mtitanicY_test\u001b[0m\u001b[0;34m)\u001b[0m\u001b[0;34m\u001b[0m\u001b[0;34m\u001b[0m\u001b[0m\n\u001b[1;32m      8\u001b[0m     \u001b[0mcv_scores\u001b[0m\u001b[0;34m.\u001b[0m\u001b[0mappend\u001b[0m\u001b[0;34m(\u001b[0m\u001b[0;34m(\u001b[0m\u001b[0mcv_score\u001b[0m\u001b[0;34m,\u001b[0m\u001b[0mtest_mse_value\u001b[0m\u001b[0;34m)\u001b[0m\u001b[0;34m)\u001b[0m\u001b[0;34m\u001b[0m\u001b[0;34m\u001b[0m\u001b[0m\n",
      "\u001b[0;32m<ipython-input-44-5e234c548525>\u001b[0m in \u001b[0;36mtrain_logistic_regression_sk\u001b[0;34m(X_train, X_test, y_train, y_test, degree)\u001b[0m\n\u001b[1;32m     12\u001b[0m     \u001b[0mavg_cv_score\u001b[0m \u001b[0;34m=\u001b[0m \u001b[0;34m-\u001b[0m\u001b[0mnp\u001b[0m\u001b[0;34m.\u001b[0m\u001b[0mmean\u001b[0m\u001b[0;34m(\u001b[0m\u001b[0mcv_scores\u001b[0m\u001b[0;34m)\u001b[0m\u001b[0;34m\u001b[0m\u001b[0;34m\u001b[0m\u001b[0m\n\u001b[1;32m     13\u001b[0m \u001b[0;34m\u001b[0m\u001b[0m\n\u001b[0;32m---> 14\u001b[0;31m     \u001b[0mmodel\u001b[0m\u001b[0;34m.\u001b[0m\u001b[0mfit\u001b[0m\u001b[0;34m(\u001b[0m\u001b[0mX_poly_train\u001b[0m\u001b[0;34m,\u001b[0m\u001b[0my_train\u001b[0m\u001b[0;34m)\u001b[0m\u001b[0;34m\u001b[0m\u001b[0;34m\u001b[0m\u001b[0m\n\u001b[0m\u001b[1;32m     15\u001b[0m     \u001b[0mprint\u001b[0m\u001b[0;34m(\u001b[0m\u001b[0;34m\"Logistic Regression Model Trained\"\u001b[0m\u001b[0;34m)\u001b[0m\u001b[0;34m\u001b[0m\u001b[0;34m\u001b[0m\u001b[0m\n\u001b[1;32m     16\u001b[0m \u001b[0;34m\u001b[0m\u001b[0m\n",
      "\u001b[0;32m~/anaconda3/lib/python3.8/site-packages/sklearn/base.py\u001b[0m in \u001b[0;36mwrapper\u001b[0;34m(estimator, *args, **kwargs)\u001b[0m\n\u001b[1;32m   1150\u001b[0m                 )\n\u001b[1;32m   1151\u001b[0m             ):\n\u001b[0;32m-> 1152\u001b[0;31m                 \u001b[0;32mreturn\u001b[0m \u001b[0mfit_method\u001b[0m\u001b[0;34m(\u001b[0m\u001b[0mestimator\u001b[0m\u001b[0;34m,\u001b[0m \u001b[0;34m*\u001b[0m\u001b[0margs\u001b[0m\u001b[0;34m,\u001b[0m \u001b[0;34m**\u001b[0m\u001b[0mkwargs\u001b[0m\u001b[0;34m)\u001b[0m\u001b[0;34m\u001b[0m\u001b[0;34m\u001b[0m\u001b[0m\n\u001b[0m\u001b[1;32m   1153\u001b[0m \u001b[0;34m\u001b[0m\u001b[0m\n\u001b[1;32m   1154\u001b[0m         \u001b[0;32mreturn\u001b[0m \u001b[0mwrapper\u001b[0m\u001b[0;34m\u001b[0m\u001b[0;34m\u001b[0m\u001b[0m\n",
      "\u001b[0;32m~/anaconda3/lib/python3.8/site-packages/sklearn/linear_model/_logistic.py\u001b[0m in \u001b[0;36mfit\u001b[0;34m(self, X, y, sample_weight)\u001b[0m\n\u001b[1;32m   1226\u001b[0m                     \u001b[0;34m\" = {}.\"\u001b[0m\u001b[0;34m.\u001b[0m\u001b[0mformat\u001b[0m\u001b[0;34m(\u001b[0m\u001b[0meffective_n_jobs\u001b[0m\u001b[0;34m(\u001b[0m\u001b[0mself\u001b[0m\u001b[0;34m.\u001b[0m\u001b[0mn_jobs\u001b[0m\u001b[0;34m)\u001b[0m\u001b[0;34m)\u001b[0m\u001b[0;34m\u001b[0m\u001b[0;34m\u001b[0m\u001b[0m\n\u001b[1;32m   1227\u001b[0m                 )\n\u001b[0;32m-> 1228\u001b[0;31m             self.coef_, self.intercept_, self.n_iter_ = _fit_liblinear(\n\u001b[0m\u001b[1;32m   1229\u001b[0m                 \u001b[0mX\u001b[0m\u001b[0;34m,\u001b[0m\u001b[0;34m\u001b[0m\u001b[0;34m\u001b[0m\u001b[0m\n\u001b[1;32m   1230\u001b[0m                 \u001b[0my\u001b[0m\u001b[0;34m,\u001b[0m\u001b[0;34m\u001b[0m\u001b[0;34m\u001b[0m\u001b[0m\n",
      "\u001b[0;32m~/anaconda3/lib/python3.8/site-packages/sklearn/svm/_base.py\u001b[0m in \u001b[0;36m_fit_liblinear\u001b[0;34m(X, y, C, fit_intercept, intercept_scaling, class_weight, penalty, dual, verbose, max_iter, tol, random_state, multi_class, loss, epsilon, sample_weight)\u001b[0m\n\u001b[1;32m   1228\u001b[0m \u001b[0;34m\u001b[0m\u001b[0m\n\u001b[1;32m   1229\u001b[0m     \u001b[0msolver_type\u001b[0m \u001b[0;34m=\u001b[0m \u001b[0m_get_liblinear_solver_type\u001b[0m\u001b[0;34m(\u001b[0m\u001b[0mmulti_class\u001b[0m\u001b[0;34m,\u001b[0m \u001b[0mpenalty\u001b[0m\u001b[0;34m,\u001b[0m \u001b[0mloss\u001b[0m\u001b[0;34m,\u001b[0m \u001b[0mdual\u001b[0m\u001b[0;34m)\u001b[0m\u001b[0;34m\u001b[0m\u001b[0;34m\u001b[0m\u001b[0m\n\u001b[0;32m-> 1230\u001b[0;31m     raw_coef_, n_iter_ = liblinear.train_wrap(\n\u001b[0m\u001b[1;32m   1231\u001b[0m         \u001b[0mX\u001b[0m\u001b[0;34m,\u001b[0m\u001b[0;34m\u001b[0m\u001b[0;34m\u001b[0m\u001b[0m\n\u001b[1;32m   1232\u001b[0m         \u001b[0my_ind\u001b[0m\u001b[0;34m,\u001b[0m\u001b[0;34m\u001b[0m\u001b[0;34m\u001b[0m\u001b[0m\n",
      "\u001b[0;31mKeyboardInterrupt\u001b[0m: "
     ]
    }
   ],
   "source": [
    "degree=5\n",
    "titanicX_train,titanicX_test,titanicY_train,titanicY_test=train_test_split_sk(X_titanic_scaled,Y_titanic)\n",
    "models=[]\n",
    "cv_scores=[]\n",
    "for i in range(1,degree+1):\n",
    "    trained_model,cv_score,X_poly_test=train_logistic_regression_sk(titanicX_train,titanicX_test,titanicY_train,titanicY_test,degree)\n",
    "    test_mse_value=test_logistic_regression_sk(trained_model,X_poly_test,titanicY_test)\n",
    "    cv_scores.append((cv_score,test_mse_value))\n",
    "    models.append(trained_model)\n",
    "plot_cv(cv_scores,degree)"
   ]
  }
 ],
 "metadata": {
  "kernelspec": {
   "display_name": "Python 3",
   "language": "python",
   "name": "python3"
  },
  "language_info": {
   "codemirror_mode": {
    "name": "ipython",
    "version": 3
   },
   "file_extension": ".py",
   "mimetype": "text/x-python",
   "name": "python",
   "nbconvert_exporter": "python",
   "pygments_lexer": "ipython3",
   "version": "3.8.5"
  }
 },
 "nbformat": 4,
 "nbformat_minor": 5
}
